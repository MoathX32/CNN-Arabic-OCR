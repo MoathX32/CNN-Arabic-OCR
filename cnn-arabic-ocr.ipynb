{
 "cells": [
  {
   "cell_type": "code",
   "execution_count": 1,
   "id": "6d49ba35",
   "metadata": {
    "execution": {
     "iopub.execute_input": "2022-04-20T16:53:29.826567Z",
     "iopub.status.busy": "2022-04-20T16:53:29.825703Z",
     "iopub.status.idle": "2022-04-20T16:53:36.084145Z",
     "shell.execute_reply": "2022-04-20T16:53:36.081827Z"
    },
    "papermill": {
     "duration": 6.278167,
     "end_time": "2022-04-20T16:53:36.086246",
     "exception": false,
     "start_time": "2022-04-20T16:53:29.808079",
     "status": "completed"
    },
    "tags": []
   },
   "outputs": [
    {
     "name": "stdout",
     "output_type": "stream",
     "text": [
      "Num GPUs Available:  1\n"
     ]
    }
   ],
   "source": [
    "import numpy as np\n",
    "import pandas as pd\n",
    "import matplotlib.pyplot as plt\n",
    "import seaborn as sns\n",
    "import tensorflow as tf\n",
    "from tensorflow.keras.preprocessing.image import ImageDataGenerator\n",
    "from tensorflow.keras.callbacks import EarlyStopping,ReduceLROnPlateau\n",
    "from tensorflow.keras.models import Sequential\n",
    "from tensorflow.keras.layers import Dense,Flatten,MaxPooling2D,Conv2D,Dropout,Activation,BatchNormalization\n",
    "from sklearn.metrics import confusion_matrix\n",
    "from sklearn.utils import shuffle\n",
    "import os\n",
    "os.environ['TF_CPP_MIN_LOG_LEVEL'] = '3' \n",
    "import warnings \n",
    "warnings.filterwarnings('ignore')\n",
    "print(\"Num GPUs Available: \", len(tf.config.list_physical_devices('GPU')))\n"
   ]
  },
  {
   "cell_type": "code",
   "execution_count": 2,
   "id": "ea7467ce",
   "metadata": {
    "execution": {
     "iopub.execute_input": "2022-04-20T16:53:36.119009Z",
     "iopub.status.busy": "2022-04-20T16:53:36.118397Z",
     "iopub.status.idle": "2022-04-20T16:53:37.785169Z",
     "shell.execute_reply": "2022-04-20T16:53:37.784426Z"
    },
    "papermill": {
     "duration": 1.68532,
     "end_time": "2022-04-20T16:53:37.787551",
     "exception": false,
     "start_time": "2022-04-20T16:53:36.102231",
     "status": "completed"
    },
    "tags": []
   },
   "outputs": [],
   "source": [
    "train_data = pd.read_csv('../input/ahcd1/Arabic Handwritten Characters Dataset CSV/csvTrainImages 13440x1024.csv', header = None).values\n",
    "train_label = pd.read_csv('../input/ahcd1/Arabic Handwritten Characters Dataset CSV/csvTrainLabel 13440x1.csv', header = None)\n",
    "test_data = pd.read_csv('../input/ahcd1/Arabic Handwritten Characters Dataset CSV/csvTestImages 3360x1024.csv', header = None).values\n",
    "test_label = pd.read_csv('../input/ahcd1/Arabic Handwritten Characters Dataset CSV/csvTestLabel 3360x1.csv', header = None)"
   ]
  },
  {
   "cell_type": "code",
   "execution_count": 3,
   "id": "b903f5b2",
   "metadata": {
    "execution": {
     "iopub.execute_input": "2022-04-20T16:53:37.820583Z",
     "iopub.status.busy": "2022-04-20T16:53:37.820375Z",
     "iopub.status.idle": "2022-04-20T16:53:37.824445Z",
     "shell.execute_reply": "2022-04-20T16:53:37.823787Z"
    },
    "papermill": {
     "duration": 0.02228,
     "end_time": "2022-04-20T16:53:37.826256",
     "exception": false,
     "start_time": "2022-04-20T16:53:37.803976",
     "status": "completed"
    },
    "tags": []
   },
   "outputs": [],
   "source": [
    "train_label = train_label.squeeze()\n",
    "test_label = test_label.squeeze()"
   ]
  },
  {
   "cell_type": "code",
   "execution_count": 4,
   "id": "20ab6fd4",
   "metadata": {
    "execution": {
     "iopub.execute_input": "2022-04-20T16:53:37.858043Z",
     "iopub.status.busy": "2022-04-20T16:53:37.857603Z",
     "iopub.status.idle": "2022-04-20T16:53:37.863442Z",
     "shell.execute_reply": "2022-04-20T16:53:37.862786Z"
    },
    "papermill": {
     "duration": 0.023842,
     "end_time": "2022-04-20T16:53:37.865203",
     "exception": false,
     "start_time": "2022-04-20T16:53:37.841361",
     "status": "completed"
    },
    "tags": []
   },
   "outputs": [],
   "source": [
    "characters = [\"ا\",\"ب\",\"ت\",\"ث\",\"ج\",\"ح\",\"خ\",\"د\",\"ذ\",\"ر\",\"ز\",\"س\",\"ش\",\"ص\",\"ض\",\"ط\",\"ظ\",\"ع\",\"غ\",\"ف\",\"ق\",\"ك\",\"ل\",\"م\",\"ن\",\"ه\",\"و\",\"ي\"]\n",
    "characters_dict = dict(zip(np.arange(1,len(characters)+1), characters))"
   ]
  },
  {
   "cell_type": "code",
   "execution_count": 5,
   "id": "cc05e6e4",
   "metadata": {
    "execution": {
     "iopub.execute_input": "2022-04-20T16:53:37.896647Z",
     "iopub.status.busy": "2022-04-20T16:53:37.896423Z",
     "iopub.status.idle": "2022-04-20T16:53:37.909365Z",
     "shell.execute_reply": "2022-04-20T16:53:37.908664Z"
    },
    "papermill": {
     "duration": 0.030828,
     "end_time": "2022-04-20T16:53:37.911013",
     "exception": false,
     "start_time": "2022-04-20T16:53:37.880185",
     "status": "completed"
    },
    "tags": []
   },
   "outputs": [],
   "source": [
    "train_label = train_label.map(characters_dict).values\n",
    "test_label = test_label.map(characters_dict).values"
   ]
  },
  {
   "cell_type": "code",
   "execution_count": 6,
   "id": "5c3fc6ae",
   "metadata": {
    "execution": {
     "iopub.execute_input": "2022-04-20T16:53:37.942095Z",
     "iopub.status.busy": "2022-04-20T16:53:37.941899Z",
     "iopub.status.idle": "2022-04-20T16:53:37.945801Z",
     "shell.execute_reply": "2022-04-20T16:53:37.945013Z"
    },
    "papermill": {
     "duration": 0.021388,
     "end_time": "2022-04-20T16:53:37.947599",
     "exception": false,
     "start_time": "2022-04-20T16:53:37.926211",
     "status": "completed"
    },
    "tags": []
   },
   "outputs": [],
   "source": [
    "x_train = (train_data).reshape(-1,32,32,1)\n",
    "x_test = (test_data).reshape(-1,32,32,1)"
   ]
  },
  {
   "cell_type": "code",
   "execution_count": 7,
   "id": "f1996fe0",
   "metadata": {
    "execution": {
     "iopub.execute_input": "2022-04-20T16:53:37.978688Z",
     "iopub.status.busy": "2022-04-20T16:53:37.978484Z",
     "iopub.status.idle": "2022-04-20T16:53:38.165405Z",
     "shell.execute_reply": "2022-04-20T16:53:38.164668Z"
    },
    "papermill": {
     "duration": 0.205127,
     "end_time": "2022-04-20T16:53:38.167604",
     "exception": false,
     "start_time": "2022-04-20T16:53:37.962477",
     "status": "completed"
    },
    "tags": []
   },
   "outputs": [],
   "source": [
    "x_train,train_label = shuffle(x_train,train_label)\n",
    "x_test,test_label = shuffle(x_test,test_label)"
   ]
  },
  {
   "cell_type": "code",
   "execution_count": 8,
   "id": "01d593b5",
   "metadata": {
    "execution": {
     "iopub.execute_input": "2022-04-20T16:53:38.203537Z",
     "iopub.status.busy": "2022-04-20T16:53:38.202854Z",
     "iopub.status.idle": "2022-04-20T16:53:39.065093Z",
     "shell.execute_reply": "2022-04-20T16:53:39.064340Z"
    },
    "papermill": {
     "duration": 0.884673,
     "end_time": "2022-04-20T16:53:39.068320",
     "exception": false,
     "start_time": "2022-04-20T16:53:38.183647",
     "status": "completed"
    },
    "tags": []
   },
   "outputs": [
    {
     "data": {
      "image/png": "[encoded data removed]",
      "text/plain": [
       "<Figure size 720x720 with 25 Axes>"
      ]
     },
     "metadata": {},
     "output_type": "display_data"
    }
   ],
   "source": [
    "plt.figure(figsize=(10,10))\n",
    "for i in range(25):\n",
    "    plt.subplot(5,5,i+1)\n",
    "    plt.xticks([])\n",
    "    plt.yticks([])\n",
    "    plt.grid(False)\n",
    "    plt.imshow(x_train[i].reshape(32,32).T,\"gray\")\n",
    "    plt.title(train_label[i][0],fontsize = 15)\n",
    "plt.show()\n"
   ]
  },
  {
   "cell_type": "code",
   "execution_count": 9,
   "id": "0e50afbe",
   "metadata": {
    "execution": {
     "iopub.execute_input": "2022-04-20T16:53:39.104292Z",
     "iopub.status.busy": "2022-04-20T16:53:39.104065Z",
     "iopub.status.idle": "2022-04-20T16:53:39.113091Z",
     "shell.execute_reply": "2022-04-20T16:53:39.112464Z"
    },
    "papermill": {
     "duration": 0.02888,
     "end_time": "2022-04-20T16:53:39.114708",
     "exception": false,
     "start_time": "2022-04-20T16:53:39.085828",
     "status": "completed"
    },
    "tags": []
   },
   "outputs": [],
   "source": [
    "from sklearn.preprocessing import LabelEncoder\n",
    "lb = LabelEncoder()\n",
    "train_label = lb.fit_transform(train_label)\n",
    "test_label = lb.fit_transform(test_label)"
   ]
  },
  {
   "cell_type": "code",
   "execution_count": 10,
   "id": "4888b249",
   "metadata": {
    "execution": {
     "iopub.execute_input": "2022-04-20T16:53:39.149957Z",
     "iopub.status.busy": "2022-04-20T16:53:39.149766Z",
     "iopub.status.idle": "2022-04-20T16:53:39.184220Z",
     "shell.execute_reply": "2022-04-20T16:53:39.183492Z"
    },
    "papermill": {
     "duration": 0.05497,
     "end_time": "2022-04-20T16:53:39.186551",
     "exception": false,
     "start_time": "2022-04-20T16:53:39.131581",
     "status": "completed"
    },
    "tags": []
   },
   "outputs": [],
   "source": [
    "train_datagen=ImageDataGenerator(\n",
    "    zoom_range=0.2, #the amount of zooming u need\n",
    "    horizontal_flip=True, # Make a horizontal copy of image\n",
    "    rescale=1/255, # Normalize the new images\n",
    "    width_shift_range=0.10, # The percentage of Width shifitning\n",
    "    height_shift_range=0.10, # The percentage of height shifitning\n",
    "    shear_range=0.1, #Shear angle in counter-clockwise direction in degrees\n",
    "    fill_mode='nearest',\n",
    "    rotation_range=20, \n",
    ")\n",
    "train_generator=train_datagen.flow(\n",
    "    x_train ,train_label ,batch_size=64\n",
    ")\n",
    "\n",
    "test_datagen=ImageDataGenerator(rescale=1/255)\n",
    "test_generator=test_datagen.flow(\n",
    "    x_test ,test_label ,batch_size=64\n",
    " \n",
    ")"
   ]
  },
  {
   "cell_type": "code",
   "execution_count": 11,
   "id": "ef342c4b",
   "metadata": {
    "execution": {
     "iopub.execute_input": "2022-04-20T16:53:39.223701Z",
     "iopub.status.busy": "2022-04-20T16:53:39.222991Z",
     "iopub.status.idle": "2022-04-20T16:53:39.227481Z",
     "shell.execute_reply": "2022-04-20T16:53:39.226800Z"
    },
    "papermill": {
     "duration": 0.024612,
     "end_time": "2022-04-20T16:53:39.229077",
     "exception": false,
     "start_time": "2022-04-20T16:53:39.204465",
     "status": "completed"
    },
    "tags": []
   },
   "outputs": [],
   "source": [
    "earlystop=EarlyStopping(patience=6)\n",
    "learning_rate_reduction=ReduceLROnPlateau(\n",
    "    monitor='val_acc',\n",
    "    patience= 3,\n",
    "    verbose=1,\n",
    ")\n",
    "callbacks = [earlystop, learning_rate_reduction]"
   ]
  },
  {
   "cell_type": "code",
   "execution_count": 12,
   "id": "6fa6c6e6",
   "metadata": {
    "execution": {
     "iopub.execute_input": "2022-04-20T16:53:39.264626Z",
     "iopub.status.busy": "2022-04-20T16:53:39.264006Z",
     "iopub.status.idle": "2022-04-20T16:53:41.615199Z",
     "shell.execute_reply": "2022-04-20T16:53:41.614502Z"
    },
    "papermill": {
     "duration": 2.371158,
     "end_time": "2022-04-20T16:53:41.617272",
     "exception": false,
     "start_time": "2022-04-20T16:53:39.246114",
     "status": "completed"
    },
    "tags": []
   },
   "outputs": [],
   "source": [
    "model=Sequential() \n",
    "\n",
    "model.add(Conv2D(32,(5,5), padding=\"same\",activation='relu',input_shape=(32,32,1)))\n",
    "model.add(Conv2D(32,(5,5), padding=\"same\",activation='relu'))\n",
    "model.add(Conv2D(32,(5,5),activation='relu'))\n",
    "model.add(MaxPooling2D(2,2))\n",
    "\n",
    "model.add(Flatten())\n",
    "model.add(Dense(128,activation='relu'))\n",
    "model.add(Dense(128,activation='relu'))\n",
    "model.add(Dropout(0.5))\n",
    "\n",
    "model.add(Dense(28,activation='softmax'))"
   ]
  },
  {
   "cell_type": "code",
   "execution_count": 13,
   "id": "27c07363",
   "metadata": {
    "execution": {
     "iopub.execute_input": "2022-04-20T16:53:41.655162Z",
     "iopub.status.busy": "2022-04-20T16:53:41.654940Z",
     "iopub.status.idle": "2022-04-20T16:53:41.666509Z",
     "shell.execute_reply": "2022-04-20T16:53:41.665766Z"
    },
    "papermill": {
     "duration": 0.032626,
     "end_time": "2022-04-20T16:53:41.668224",
     "exception": false,
     "start_time": "2022-04-20T16:53:41.635598",
     "status": "completed"
    },
    "tags": []
   },
   "outputs": [],
   "source": [
    "model.compile(optimizer='adam' ,loss='sparse_categorical_crossentropy',metrics=['accuracy'])"
   ]
  },
  {
   "cell_type": "code",
   "execution_count": 14,
   "id": "c914d5b3",
   "metadata": {
    "execution": {
     "iopub.execute_input": "2022-04-20T16:53:41.704246Z",
     "iopub.status.busy": "2022-04-20T16:53:41.703610Z",
     "iopub.status.idle": "2022-04-20T16:53:41.712813Z",
     "shell.execute_reply": "2022-04-20T16:53:41.711962Z"
    },
    "papermill": {
     "duration": 0.029993,
     "end_time": "2022-04-20T16:53:41.715669",
     "exception": false,
     "start_time": "2022-04-20T16:53:41.685676",
     "status": "completed"
    },
    "tags": []
   },
   "outputs": [
    {
     "name": "stdout",
     "output_type": "stream",
     "text": [
      "Model: \"sequential\"\n",
      "_________________________________________________________________\n",
      "Layer (type)                 Output Shape              Param #   \n",
      "=================================================================\n",
      "conv2d (Conv2D)              (None, 32, 32, 32)        832       \n",
      "_________________________________________________________________\n",
      "conv2d_1 (Conv2D)            (None, 32, 32, 32)        25632     \n",
      "_________________________________________________________________\n",
      "conv2d_2 (Conv2D)            (None, 28, 28, 32)        25632     \n",
      "_________________________________________________________________\n",
      "max_pooling2d (MaxPooling2D) (None, 14, 14, 32)        0         \n",
      "_________________________________________________________________\n",
      "flatten (Flatten)            (None, 6272)              0         \n",
      "_________________________________________________________________\n",
      "dense (Dense)                (None, 128)               802944    \n",
      "_________________________________________________________________\n",
      "dense_1 (Dense)              (None, 128)               16512     \n",
      "_________________________________________________________________\n",
      "dropout (Dropout)            (None, 128)               0         \n",
      "_________________________________________________________________\n",
      "dense_2 (Dense)              (None, 28)                3612      \n",
      "=================================================================\n",
      "Total params: 875,164\n",
      "Trainable params: 875,164\n",
      "Non-trainable params: 0\n",
      "_________________________________________________________________\n"
     ]
    }
   ],
   "source": [
    "model.summary()"
   ]
  },
  {
   "cell_type": "code",
   "execution_count": 15,
   "id": "77942c7b",
   "metadata": {
    "execution": {
     "iopub.execute_input": "2022-04-20T16:53:41.755905Z",
     "iopub.status.busy": "2022-04-20T16:53:41.755705Z",
     "iopub.status.idle": "2022-04-20T16:57:42.933194Z",
     "shell.execute_reply": "2022-04-20T16:57:42.932434Z"
    },
    "papermill": {
     "duration": 241.199144,
     "end_time": "2022-04-20T16:57:42.934934",
     "exception": false,
     "start_time": "2022-04-20T16:53:41.735790",
     "status": "completed"
    },
    "tags": []
   },
   "outputs": [
    {
     "name": "stdout",
     "output_type": "stream",
     "text": [
      "Epoch 1/50\n",
      "210/210 [==============================] - 12s 25ms/step - loss: 2.8919 - accuracy: 0.1319 - val_loss: 1.7564 - val_accuracy: 0.4286\n",
      "Epoch 2/50\n",
      "210/210 [==============================] - 5s 26ms/step - loss: 1.9626 - accuracy: 0.3339 - val_loss: 1.0601 - val_accuracy: 0.6193\n",
      "Epoch 3/50\n",
      "210/210 [==============================] - 5s 26ms/step - loss: 1.5086 - accuracy: 0.4696 - val_loss: 0.7938 - val_accuracy: 0.7182\n",
      "Epoch 4/50\n",
      "210/210 [==============================] - 5s 24ms/step - loss: 1.2460 - accuracy: 0.5603 - val_loss: 0.6628 - val_accuracy: 0.7824\n",
      "Epoch 5/50\n",
      "210/210 [==============================] - 5s 25ms/step - loss: 1.0768 - accuracy: 0.6276 - val_loss: 0.5374 - val_accuracy: 0.8199\n",
      "Epoch 6/50\n",
      "210/210 [==============================] - 5s 23ms/step - loss: 0.9378 - accuracy: 0.6823 - val_loss: 0.4560 - val_accuracy: 0.8372\n",
      "Epoch 7/50\n",
      "210/210 [==============================] - 5s 23ms/step - loss: 0.8402 - accuracy: 0.7133 - val_loss: 0.4278 - val_accuracy: 0.8506\n",
      "Epoch 8/50\n",
      "210/210 [==============================] - 5s 26ms/step - loss: 0.7514 - accuracy: 0.7530 - val_loss: 0.4682 - val_accuracy: 0.8339\n",
      "Epoch 9/50\n",
      "210/210 [==============================] - 5s 25ms/step - loss: 0.6841 - accuracy: 0.7728 - val_loss: 0.3456 - val_accuracy: 0.8818\n",
      "Epoch 10/50\n",
      "210/210 [==============================] - 5s 25ms/step - loss: 0.6672 - accuracy: 0.7778 - val_loss: 0.3288 - val_accuracy: 0.8833\n",
      "Epoch 11/50\n",
      "210/210 [==============================] - 5s 24ms/step - loss: 0.6101 - accuracy: 0.8010 - val_loss: 0.2954 - val_accuracy: 0.8976\n",
      "Epoch 12/50\n",
      "210/210 [==============================] - 5s 25ms/step - loss: 0.5731 - accuracy: 0.8102 - val_loss: 0.2631 - val_accuracy: 0.9089\n",
      "Epoch 13/50\n",
      "210/210 [==============================] - 5s 23ms/step - loss: 0.5680 - accuracy: 0.8161 - val_loss: 0.2768 - val_accuracy: 0.9152\n",
      "Epoch 14/50\n",
      "210/210 [==============================] - 5s 25ms/step - loss: 0.5372 - accuracy: 0.8260 - val_loss: 0.2727 - val_accuracy: 0.9051\n",
      "Epoch 15/50\n",
      "210/210 [==============================] - 6s 27ms/step - loss: 0.5069 - accuracy: 0.8375 - val_loss: 0.2415 - val_accuracy: 0.9223\n",
      "Epoch 16/50\n",
      "210/210 [==============================] - 6s 28ms/step - loss: 0.4940 - accuracy: 0.8408 - val_loss: 0.2238 - val_accuracy: 0.9286\n",
      "Epoch 17/50\n",
      "210/210 [==============================] - 5s 23ms/step - loss: 0.4747 - accuracy: 0.8470 - val_loss: 0.2464 - val_accuracy: 0.9173\n",
      "Epoch 18/50\n",
      "210/210 [==============================] - 5s 24ms/step - loss: 0.4525 - accuracy: 0.8562 - val_loss: 0.2323 - val_accuracy: 0.9256\n",
      "Epoch 19/50\n",
      "210/210 [==============================] - 5s 22ms/step - loss: 0.4334 - accuracy: 0.8586 - val_loss: 0.1930 - val_accuracy: 0.9372\n",
      "Epoch 20/50\n",
      "210/210 [==============================] - 5s 25ms/step - loss: 0.4241 - accuracy: 0.8636 - val_loss: 0.1913 - val_accuracy: 0.9432\n",
      "Epoch 21/50\n",
      "210/210 [==============================] - 6s 26ms/step - loss: 0.4139 - accuracy: 0.8682 - val_loss: 0.1956 - val_accuracy: 0.9417\n",
      "Epoch 22/50\n",
      "210/210 [==============================] - 5s 26ms/step - loss: 0.3991 - accuracy: 0.8690 - val_loss: 0.1900 - val_accuracy: 0.9381\n",
      "Epoch 23/50\n",
      "210/210 [==============================] - 5s 26ms/step - loss: 0.3942 - accuracy: 0.8717 - val_loss: 0.1831 - val_accuracy: 0.9426\n",
      "Epoch 24/50\n",
      "210/210 [==============================] - 5s 24ms/step - loss: 0.3946 - accuracy: 0.8724 - val_loss: 0.1758 - val_accuracy: 0.9470\n",
      "Epoch 25/50\n",
      "210/210 [==============================] - 5s 23ms/step - loss: 0.3754 - accuracy: 0.8787 - val_loss: 0.1787 - val_accuracy: 0.9467\n",
      "Epoch 26/50\n",
      "210/210 [==============================] - 5s 23ms/step - loss: 0.3663 - accuracy: 0.8824 - val_loss: 0.1721 - val_accuracy: 0.9467\n",
      "Epoch 27/50\n",
      "210/210 [==============================] - 5s 25ms/step - loss: 0.3516 - accuracy: 0.8876 - val_loss: 0.1642 - val_accuracy: 0.9488\n",
      "Epoch 28/50\n",
      "210/210 [==============================] - 5s 24ms/step - loss: 0.3501 - accuracy: 0.8876 - val_loss: 0.1571 - val_accuracy: 0.9512\n",
      "Epoch 29/50\n",
      "210/210 [==============================] - 6s 28ms/step - loss: 0.3464 - accuracy: 0.8913 - val_loss: 0.1751 - val_accuracy: 0.9488\n",
      "Epoch 30/50\n",
      "210/210 [==============================] - 5s 24ms/step - loss: 0.3392 - accuracy: 0.8923 - val_loss: 0.1622 - val_accuracy: 0.9491\n",
      "Epoch 31/50\n",
      "210/210 [==============================] - 5s 25ms/step - loss: 0.3176 - accuracy: 0.8989 - val_loss: 0.1707 - val_accuracy: 0.9488\n",
      "Epoch 32/50\n",
      "210/210 [==============================] - 5s 23ms/step - loss: 0.3185 - accuracy: 0.9008 - val_loss: 0.1677 - val_accuracy: 0.9506\n",
      "Epoch 33/50\n",
      "210/210 [==============================] - 5s 26ms/step - loss: 0.3207 - accuracy: 0.9014 - val_loss: 0.1607 - val_accuracy: 0.9571\n",
      "Epoch 34/50\n",
      "210/210 [==============================] - 5s 26ms/step - loss: 0.3126 - accuracy: 0.9026 - val_loss: 0.1561 - val_accuracy: 0.9557\n",
      "Epoch 35/50\n",
      "210/210 [==============================] - 5s 23ms/step - loss: 0.3110 - accuracy: 0.9014 - val_loss: 0.1483 - val_accuracy: 0.9554\n",
      "Epoch 36/50\n",
      "210/210 [==============================] - 5s 25ms/step - loss: 0.2990 - accuracy: 0.9064 - val_loss: 0.1491 - val_accuracy: 0.9557\n",
      "Epoch 37/50\n",
      "210/210 [==============================] - 5s 23ms/step - loss: 0.3063 - accuracy: 0.9060 - val_loss: 0.1465 - val_accuracy: 0.9583\n",
      "Epoch 38/50\n",
      "210/210 [==============================] - 5s 24ms/step - loss: 0.2910 - accuracy: 0.9098 - val_loss: 0.1338 - val_accuracy: 0.9598\n",
      "Epoch 39/50\n",
      "210/210 [==============================] - 5s 26ms/step - loss: 0.2923 - accuracy: 0.9084 - val_loss: 0.1569 - val_accuracy: 0.9527\n",
      "Epoch 40/50\n",
      "210/210 [==============================] - 6s 28ms/step - loss: 0.2925 - accuracy: 0.9077 - val_loss: 0.1350 - val_accuracy: 0.9610\n",
      "Epoch 41/50\n",
      "210/210 [==============================] - 5s 23ms/step - loss: 0.2793 - accuracy: 0.9140 - val_loss: 0.1544 - val_accuracy: 0.9574\n",
      "Epoch 42/50\n",
      "210/210 [==============================] - 5s 24ms/step - loss: 0.2788 - accuracy: 0.9149 - val_loss: 0.1503 - val_accuracy: 0.9548\n",
      "Epoch 43/50\n",
      "210/210 [==============================] - 5s 24ms/step - loss: 0.2724 - accuracy: 0.9141 - val_loss: 0.1407 - val_accuracy: 0.9580\n",
      "Epoch 44/50\n",
      "210/210 [==============================] - 5s 24ms/step - loss: 0.2670 - accuracy: 0.9143 - val_loss: 0.1451 - val_accuracy: 0.9571\n"
     ]
    },
    {
     "data": {
      "text/plain": [
       "<keras.callbacks.History at 0x7f7b602dfb50>"
      ]
     },
     "execution_count": 15,
     "metadata": {},
     "output_type": "execute_result"
    }
   ],
   "source": [
    "model.fit(\n",
    "    train_generator, \n",
    "    epochs=50,\n",
    "    validation_data=test_generator,\n",
    "    callbacks=callbacks\n",
    ")"
   ]
  },
  {
   "cell_type": "code",
   "execution_count": 16,
   "id": "e07af36d",
   "metadata": {
    "execution": {
     "iopub.execute_input": "2022-04-20T16:57:45.658674Z",
     "iopub.status.busy": "2022-04-20T16:57:45.658314Z",
     "iopub.status.idle": "2022-04-20T16:57:46.060403Z",
     "shell.execute_reply": "2022-04-20T16:57:46.059565Z"
    },
    "papermill": {
     "duration": 1.857617,
     "end_time": "2022-04-20T16:57:46.062637",
     "exception": false,
     "start_time": "2022-04-20T16:57:44.205020",
     "status": "completed"
    },
    "tags": []
   },
   "outputs": [
    {
     "data": {
      "text/plain": [
       "<AxesSubplot:>"
      ]
     },
     "execution_count": 16,
     "metadata": {},
     "output_type": "execute_result"
    },
    {
     "data": {
      "image/png": "[encoded data removed]",
      "text/plain": [
       "<Figure size 432x288 with 1 Axes>"
      ]
     },
     "metadata": {
      "needs_background": "light"
     },
     "output_type": "display_data"
    },
    {
     "data": {
      "image/png": "[encoded data removed]",
      "text/plain": [
       "<Figure size 432x288 with 1 Axes>"
      ]
     },
     "metadata": {
      "needs_background": "light"
     },
     "output_type": "display_data"
    }
   ],
   "source": [
    "losses = pd.DataFrame(model.history.history)\n",
    "losses[['accuracy','val_accuracy']].plot()\n",
    "losses[['loss','val_loss']].plot()"
   ]
  },
  {
   "cell_type": "code",
   "execution_count": 17,
   "id": "c14e3c16",
   "metadata": {
    "execution": {
     "iopub.execute_input": "2022-04-20T16:57:48.377345Z",
     "iopub.status.busy": "2022-04-20T16:57:48.377083Z",
     "iopub.status.idle": "2022-04-20T16:57:48.726959Z",
     "shell.execute_reply": "2022-04-20T16:57:48.726268Z"
    },
    "papermill": {
     "duration": 1.453702,
     "end_time": "2022-04-20T16:57:48.728715",
     "exception": false,
     "start_time": "2022-04-20T16:57:47.275013",
     "status": "completed"
    },
    "tags": []
   },
   "outputs": [
    {
     "name": "stdout",
     "output_type": "stream",
     "text": [
      "53/53 [==============================] - 0s 4ms/step - loss: 0.1451 - accuracy: 0.9571\n"
     ]
    },
    {
     "data": {
      "text/plain": [
       "[0.14514751732349396, 0.9571428298950195]"
      ]
     },
     "execution_count": 17,
     "metadata": {},
     "output_type": "execute_result"
    }
   ],
   "source": [
    "model.evaluate(test_generator)"
   ]
  }
 ],
 "metadata": {
  "kernelspec": {
   "display_name": "Python 3",
   "language": "python",
   "name": "python3"
  },
  "language_info": {
   "codemirror_mode": {
    "name": "ipython",
    "version": 3
   },
   "file_extension": ".py",
   "mimetype": "text/x-python",
   "name": "python",
   "nbconvert_exporter": "python",
   "pygments_lexer": "ipython3",
   "version": "3.7.12"
  },
  "papermill": {
   "default_parameters": {},
   "duration": 272.549223,
   "end_time": "2022-04-20T16:57:53.883894",
   "environment_variables": {},
   "exception": null,
   "input_path": "__notebook__.ipynb",
   "output_path": "__notebook__.ipynb",
   "parameters": {},
   "start_time": "2022-04-20T16:53:21.334671",
   "version": "2.3.4"
  }
 },
 "nbformat": 4,
 "nbformat_minor": 5
}
